{
  "nbformat": 4,
  "nbformat_minor": 0,
  "metadata": {
    "colab": {
      "provenance": []
    },
    "kernelspec": {
      "name": "python3",
      "display_name": "Python 3"
    },
    "language_info": {
      "name": "python"
    }
  },
  "cells": [
    {
      "cell_type": "code",
      "execution_count": 36,
      "metadata": {
        "id": "oW24gwYZYmTp"
      },
      "outputs": [],
      "source": [
        "import numpy as np\n",
        "import pandas as pd\n",
        "from sklearn.metrics.pairwise import cosine_similarity, euclidean_distances\n",
        "from sklearn.model_selection import GridSearchCV, train_test_split\n",
        "from sklearn.neighbors import NearestNeighbors\n",
        "from sklearn.decomposition import TruncatedSVD\n",
        "from scipy.sparse import csr_matrix\n",
        "import pickle\n",
        "from sklearn.metrics import mean_squared_error, mean_absolute_error\n",
        "import warnings\n",
        "warnings.filterwarnings('ignore')\n"
      ]
    },
    {
      "cell_type": "code",
      "source": [
        "print(\"Loading data...\")\n",
        "book = pd.read_csv('/content/Books.csv')\n",
        "user = pd.read_csv('/content/Users.csv')\n",
        "rating = pd.read_csv('/content/Ratings.csv')\n",
        "print(f\"Books: {book.shape}, Users: {user.shape}, Ratings: {rating.shape}\")"
      ],
      "metadata": {
        "colab": {
          "base_uri": "https://localhost:8080/"
        },
        "id": "hte6lteAYm6k",
        "outputId": "05bacb3f-ec17-42dd-af43-504e55174499"
      },
      "execution_count": 37,
      "outputs": [
        {
          "output_type": "stream",
          "name": "stdout",
          "text": [
            "Loading data...\n",
            "Books: (271360, 8), Users: (278858, 3), Ratings: (1149780, 3)\n"
          ]
        }
      ]
    },
    {
      "cell_type": "code",
      "source": [
        "print(\"\\n\" + \"=\"*60)\n",
        "print(\"BUILDING POPULARITY-BASED RECOMMENDATION\")\n",
        "print(\"=\"*60)"
      ],
      "metadata": {
        "colab": {
          "base_uri": "https://localhost:8080/"
        },
        "id": "qaslUzgkmcRP",
        "outputId": "48b5334d-f532-4b53-f477-a6efef048d6d"
      },
      "execution_count": 38,
      "outputs": [
        {
          "output_type": "stream",
          "name": "stdout",
          "text": [
            "\n",
            "============================================================\n",
            "BUILDING POPULARITY-BASED RECOMMENDATION\n",
            "============================================================\n"
          ]
        }
      ]
    },
    {
      "cell_type": "code",
      "source": [
        "rating_with_name = rating.merge(book, on='ISBN')\n",
        "\n",
        "num_rating_df = rating_with_name.groupby('Book-Title').count()['Book-Rating'].reset_index()\n",
        "num_rating_df.rename(columns={'Book-Rating': 'Num_rating'}, inplace=True)\n",
        "\n",
        "avg_rating_df = rating_with_name.groupby('Book-Title').mean(numeric_only=True)['Book-Rating'].reset_index()\n",
        "avg_rating_df.rename(columns={'Book-Rating': 'Avg_rating'}, inplace=True)\n",
        "\n",
        "popular_df = num_rating_df.merge(avg_rating_df, on='Book-Title')\n",
        "\n",
        "pbr_df = popular_df[popular_df['Num_rating'] >= 300].sort_values('Avg_rating', ascending=False).head(100)\n",
        "pbr_df = pbr_df.merge(book, on='Book-Title').drop_duplicates('Book-Title')[\n",
        "    ['Book-Title', 'Book-Author', 'Publisher', 'Image-URL-M', 'Num_rating', 'Avg_rating']]\n",
        "\n",
        "print(f\"Top 100 popular books created: {pbr_df.shape}\")"
      ],
      "metadata": {
        "colab": {
          "base_uri": "https://localhost:8080/"
        },
        "id": "W2c6mXsemr04",
        "outputId": "51b34b03-3ea7-444f-b09d-502f921fcbd3"
      },
      "execution_count": 39,
      "outputs": [
        {
          "output_type": "stream",
          "name": "stdout",
          "text": [
            "Top 100 popular books created: (100, 6)\n"
          ]
        }
      ]
    },
    {
      "cell_type": "code",
      "source": [
        "print(\"\\n\" + \"=\"*60)\n",
        "print(\"PREPARING DATA FOR COLLABORATIVE FILTERING\")\n",
        "print(\"=\"*60)"
      ],
      "metadata": {
        "colab": {
          "base_uri": "https://localhost:8080/"
        },
        "id": "W2uIKjmOmxw0",
        "outputId": "b103b855-76a9-404c-dc42-e5097e23e464"
      },
      "execution_count": 40,
      "outputs": [
        {
          "output_type": "stream",
          "name": "stdout",
          "text": [
            "\n",
            "============================================================\n",
            "PREPARING DATA FOR COLLABORATIVE FILTERING\n",
            "============================================================\n"
          ]
        }
      ]
    },
    {
      "cell_type": "code",
      "source": [
        "b = rating_with_name.groupby('User-ID').count()['Book-Rating'] > 250\n",
        "users_with_ratings = b[b].index\n",
        "print(f\"Users with 250+ ratings: {len(users_with_ratings)}\")"
      ],
      "metadata": {
        "colab": {
          "base_uri": "https://localhost:8080/"
        },
        "id": "jdrsDOVrm1N1",
        "outputId": "a4abde8a-cab8-41cd-df80-502ec8d3e3fd"
      },
      "execution_count": 41,
      "outputs": [
        {
          "output_type": "stream",
          "name": "stdout",
          "text": [
            "Users with 250+ ratings: 613\n"
          ]
        }
      ]
    },
    {
      "cell_type": "code",
      "source": [
        "filtered_rating = rating_with_name[rating_with_name['User-ID'].isin(users_with_ratings)]\n",
        "\n",
        "c = filtered_rating.groupby('Book-Title').count()['Book-Rating'] >= 50\n",
        "famous_books = c[c].index\n",
        "print(f\"Books with 50+ ratings: {len(famous_books)}\")"
      ],
      "metadata": {
        "colab": {
          "base_uri": "https://localhost:8080/"
        },
        "id": "drcCTN3Mm4xs",
        "outputId": "1d10f1f4-e99b-4a03-ebf8-55153311907d"
      },
      "execution_count": 42,
      "outputs": [
        {
          "output_type": "stream",
          "name": "stdout",
          "text": [
            "Books with 50+ ratings: 574\n"
          ]
        }
      ]
    },
    {
      "cell_type": "code",
      "source": [
        "final_ratings = filtered_rating[filtered_rating['Book-Title'].isin(famous_books)]\n",
        "print(f\"Final ratings shape: {final_ratings.shape}\")"
      ],
      "metadata": {
        "colab": {
          "base_uri": "https://localhost:8080/"
        },
        "id": "VXeQDkK7m7IC",
        "outputId": "f0fe5d6e-7bc1-4ce8-e788-87af0a880dc6"
      },
      "execution_count": 43,
      "outputs": [
        {
          "output_type": "stream",
          "name": "stdout",
          "text": [
            "Final ratings shape: (45093, 10)\n"
          ]
        }
      ]
    },
    {
      "cell_type": "code",
      "source": [
        "pt = final_ratings.pivot_table(index='Book-Title', columns='User-ID', values='Book-Rating')\n",
        "pt.fillna(0, inplace=True)\n",
        "print(f\"Pivot table shape: {pt.shape}\")"
      ],
      "metadata": {
        "colab": {
          "base_uri": "https://localhost:8080/"
        },
        "id": "g2bgafH4nGmo",
        "outputId": "b01d87d4-2b8f-4d51-cb56-09b8592ed890"
      },
      "execution_count": 44,
      "outputs": [
        {
          "output_type": "stream",
          "name": "stdout",
          "text": [
            "Pivot table shape: (574, 613)\n"
          ]
        }
      ]
    },
    {
      "cell_type": "code",
      "source": [
        "print(\"\\n\" + \"=\"*60)\n",
        "print(\"CREATING TRAIN-TEST SPLIT\")\n",
        "print(\"=\"*60)"
      ],
      "metadata": {
        "colab": {
          "base_uri": "https://localhost:8080/"
        },
        "id": "XH3nXd9knI_Q",
        "outputId": "0fd405d8-7826-43c9-f0c9-6b6e0289986c"
      },
      "execution_count": 45,
      "outputs": [
        {
          "output_type": "stream",
          "name": "stdout",
          "text": [
            "\n",
            "============================================================\n",
            "CREATING TRAIN-TEST SPLIT\n",
            "============================================================\n"
          ]
        }
      ]
    },
    {
      "cell_type": "code",
      "source": [
        "train_data, test_data = train_test_split(final_ratings, test_size=0.2, random_state=42)\n",
        "print(f\"Train size: {train_data.shape}, Test size: {test_data.shape}\")"
      ],
      "metadata": {
        "colab": {
          "base_uri": "https://localhost:8080/"
        },
        "id": "DRZ2pUxJnMQM",
        "outputId": "671f0cbd-5476-47f4-94bc-88854543fbf8"
      },
      "execution_count": 46,
      "outputs": [
        {
          "output_type": "stream",
          "name": "stdout",
          "text": [
            "Train size: (36074, 10), Test size: (9019, 10)\n"
          ]
        }
      ]
    },
    {
      "cell_type": "code",
      "source": [
        "train_pt = train_data.pivot_table(index='Book-Title', columns='User-ID', values='Book-Rating')\n",
        "train_pt.fillna(0, inplace=True)"
      ],
      "metadata": {
        "id": "8fpkeGBdnOqj"
      },
      "execution_count": 47,
      "outputs": []
    },
    {
      "cell_type": "code",
      "source": [
        "print(\"\\n\" + \"=\"*60)\n",
        "print(\"MODEL 1: COSINE SIMILARITY\")\n",
        "print(\"=\"*60)"
      ],
      "metadata": {
        "colab": {
          "base_uri": "https://localhost:8080/"
        },
        "id": "TbJIrklLnRVr",
        "outputId": "ad99d3fc-76e7-427a-8b99-402ac86a2c18"
      },
      "execution_count": 48,
      "outputs": [
        {
          "output_type": "stream",
          "name": "stdout",
          "text": [
            "\n",
            "============================================================\n",
            "MODEL 1: COSINE SIMILARITY\n",
            "============================================================\n"
          ]
        }
      ]
    },
    {
      "cell_type": "code",
      "source": [
        "cosine_sim = cosine_similarity(train_pt)\n",
        "print(f\"Cosine similarity matrix shape: {cosine_sim.shape}\")"
      ],
      "metadata": {
        "colab": {
          "base_uri": "https://localhost:8080/"
        },
        "id": "rJeofUsqnYq5",
        "outputId": "ba33d6b1-c545-4e80-80c6-97d844f77438"
      },
      "execution_count": 49,
      "outputs": [
        {
          "output_type": "stream",
          "name": "stdout",
          "text": [
            "Cosine similarity matrix shape: (574, 574)\n"
          ]
        }
      ]
    },
    {
      "cell_type": "code",
      "source": [
        "print(\"\\n\" + \"=\"*60)\n",
        "print(\"MODEL 2: K-NEAREST NEIGHBORS WITH GRIDSEARCH\")\n",
        "print(\"=\"*60)"
      ],
      "metadata": {
        "colab": {
          "base_uri": "https://localhost:8080/"
        },
        "id": "eseFBjnJnarL",
        "outputId": "2910fdff-e696-496c-eb2c-96bf67dc0694"
      },
      "execution_count": 50,
      "outputs": [
        {
          "output_type": "stream",
          "name": "stdout",
          "text": [
            "\n",
            "============================================================\n",
            "MODEL 2: K-NEAREST NEIGHBORS WITH GRIDSEARCH\n",
            "============================================================\n"
          ]
        }
      ]
    },
    {
      "cell_type": "code",
      "source": [
        "train_sparse = csr_matrix(train_pt.values)"
      ],
      "metadata": {
        "id": "k91sEHaHndCT"
      },
      "execution_count": 51,
      "outputs": []
    },
    {
      "cell_type": "code",
      "source": [
        "param_grid_knn = {\n",
        "    'n_neighbors': [5, 10, 15, 20, 25],\n",
        "    'metric': ['cosine', 'euclidean', 'manhattan'],\n",
        "    'algorithm': ['brute', 'auto']\n",
        "}"
      ],
      "metadata": {
        "id": "FskoVP_InfLR"
      },
      "execution_count": 52,
      "outputs": []
    },
    {
      "cell_type": "code",
      "source": [
        "print(\"Testing KNN with different parameters...\")\n",
        "print(f\"Parameter grid: {param_grid_knn}\")"
      ],
      "metadata": {
        "colab": {
          "base_uri": "https://localhost:8080/"
        },
        "id": "R6lmeFbBng9G",
        "outputId": "4d400429-e181-4267-f1a7-0b62729e6716"
      },
      "execution_count": 53,
      "outputs": [
        {
          "output_type": "stream",
          "name": "stdout",
          "text": [
            "Testing KNN with different parameters...\n",
            "Parameter grid: {'n_neighbors': [5, 10, 15, 20, 25], 'metric': ['cosine', 'euclidean', 'manhattan'], 'algorithm': ['brute', 'auto']}\n"
          ]
        }
      ]
    },
    {
      "cell_type": "code",
      "source": [
        "best_knn_score = float('inf')\n",
        "best_knn_params = {}\n",
        "knn_results = []"
      ],
      "metadata": {
        "id": "7UDGm5Q2njUK"
      },
      "execution_count": 54,
      "outputs": []
    },
    {
      "cell_type": "code",
      "source": [
        "for n in param_grid_knn['n_neighbors']:\n",
        "    for metric in param_grid_knn['metric']:\n",
        "        for algo in param_grid_knn['algorithm']:\n",
        "            try:\n",
        "                knn_model = NearestNeighbors(n_neighbors=n, metric=metric, algorithm=algo)\n",
        "                knn_model.fit(train_sparse)\n",
        "\n",
        "                distances, indices = knn_model.kneighbors(train_sparse[:10])\n",
        "                avg_distance = distances.mean()\n",
        "\n",
        "                knn_results.append({\n",
        "                    'n_neighbors': n,\n",
        "                    'metric': metric,\n",
        "                    'algorithm': algo,\n",
        "                    'avg_distance': avg_distance\n",
        "                })\n",
        "\n",
        "                if avg_distance < best_knn_score:\n",
        "                    best_knn_score = avg_distance\n",
        "                    best_knn_params = {'n_neighbors': n, 'metric': metric, 'algorithm': algo}\n",
        "                    best_knn_model = knn_model\n",
        "\n",
        "                print(f\"n={n}, metric={metric}, algo={algo}: avg_dist={avg_distance:.4f}\")\n",
        "            except:\n",
        "                continue\n",
        "\n",
        "print(f\"\\nBest KNN parameters: {best_knn_params}\")\n",
        "print(f\"Best KNN score: {best_knn_score:.4f}\")\n",
        "\n",
        "print(\"\\n\" + \"=\"*60)\n",
        "print(\"MODEL 3: MATRIX FACTORIZATION (SVD) WITH GRIDSEARCH\")\n",
        "print(\"=\"*60)"
      ],
      "metadata": {
        "colab": {
          "base_uri": "https://localhost:8080/"
        },
        "id": "zh9iPnzjnlCn",
        "outputId": "9af0d520-a9f4-4d7a-b933-6127c0abe0b0"
      },
      "execution_count": 55,
      "outputs": [
        {
          "output_type": "stream",
          "name": "stdout",
          "text": [
            "n=5, metric=cosine, algo=brute: avg_dist=0.5636\n",
            "n=5, metric=cosine, algo=auto: avg_dist=0.5636\n",
            "n=5, metric=euclidean, algo=brute: avg_dist=22.9556\n",
            "n=5, metric=euclidean, algo=auto: avg_dist=22.9556\n",
            "n=5, metric=manhattan, algo=brute: avg_dist=92.9500\n",
            "n=5, metric=manhattan, algo=auto: avg_dist=92.9500\n",
            "n=10, metric=cosine, algo=brute: avg_dist=0.6577\n",
            "n=10, metric=cosine, algo=auto: avg_dist=0.6577\n",
            "n=10, metric=euclidean, algo=brute: avg_dist=26.6284\n",
            "n=10, metric=euclidean, algo=auto: avg_dist=26.6284\n",
            "n=10, metric=manhattan, algo=brute: avg_dist=109.5700\n",
            "n=10, metric=manhattan, algo=auto: avg_dist=109.5700\n",
            "n=15, metric=cosine, algo=brute: avg_dist=0.6963\n",
            "n=15, metric=cosine, algo=auto: avg_dist=0.6963\n",
            "n=15, metric=euclidean, algo=brute: avg_dist=28.1259\n",
            "n=15, metric=euclidean, algo=auto: avg_dist=28.1259\n",
            "n=15, metric=manhattan, algo=brute: avg_dist=116.9678\n",
            "n=15, metric=manhattan, algo=auto: avg_dist=116.9678\n",
            "n=20, metric=cosine, algo=brute: avg_dist=0.7189\n",
            "n=20, metric=cosine, algo=auto: avg_dist=0.7189\n",
            "n=20, metric=euclidean, algo=brute: avg_dist=28.9949\n",
            "n=20, metric=euclidean, algo=auto: avg_dist=28.9949\n",
            "n=20, metric=manhattan, algo=brute: avg_dist=121.6450\n",
            "n=20, metric=manhattan, algo=auto: avg_dist=121.6450\n",
            "n=25, metric=cosine, algo=brute: avg_dist=0.7349\n",
            "n=25, metric=cosine, algo=auto: avg_dist=0.7349\n",
            "n=25, metric=euclidean, algo=brute: avg_dist=29.5943\n",
            "n=25, metric=euclidean, algo=auto: avg_dist=29.5943\n",
            "n=25, metric=manhattan, algo=brute: avg_dist=124.9553\n",
            "n=25, metric=manhattan, algo=auto: avg_dist=124.9553\n",
            "\n",
            "Best KNN parameters: {'n_neighbors': 5, 'metric': 'cosine', 'algorithm': 'brute'}\n",
            "Best KNN score: 0.5636\n",
            "\n",
            "============================================================\n",
            "MODEL 3: MATRIX FACTORIZATION (SVD) WITH GRIDSEARCH\n",
            "============================================================\n"
          ]
        }
      ]
    },
    {
      "cell_type": "code",
      "source": [
        "\n",
        "param_grid_svd = {\n",
        "    'n_components': [10, 20, 30, 50, 100],\n",
        "    'n_iter': [5, 10, 20],\n",
        "    'random_state': [42]\n",
        "}\n",
        "\n",
        "best_svd_score = float('inf')\n",
        "best_svd_params = {}\n",
        "svd_results = []\n",
        "\n",
        "print(\"Testing SVD with different parameters...\")\n",
        "print(f\"Parameter grid: {param_grid_svd}\")"
      ],
      "metadata": {
        "colab": {
          "base_uri": "https://localhost:8080/"
        },
        "id": "P6ativVannOR",
        "outputId": "33e5218f-3bb3-43c6-d146-c14502b7fb92"
      },
      "execution_count": 56,
      "outputs": [
        {
          "output_type": "stream",
          "name": "stdout",
          "text": [
            "Testing SVD with different parameters...\n",
            "Parameter grid: {'n_components': [10, 20, 30, 50, 100], 'n_iter': [5, 10, 20], 'random_state': [42]}\n"
          ]
        }
      ]
    },
    {
      "cell_type": "code",
      "source": [
        "for n_comp in param_grid_svd['n_components']:\n",
        "    for n_it in param_grid_svd['n_iter']:\n",
        "        try:\n",
        "            svd = TruncatedSVD(n_components=n_comp, n_iter=n_it, random_state=42)\n",
        "            svd_matrix = svd.fit_transform(train_pt)\n",
        "\n",
        "            reconstructed = svd.inverse_transform(svd_matrix)\n",
        "            mse = mean_squared_error(train_pt.values.flatten(), reconstructed.flatten())\n",
        "\n",
        "            svd_results.append({\n",
        "                'n_components': n_comp,\n",
        "                'n_iter': n_it,\n",
        "                'mse': mse,\n",
        "                'explained_variance': svd.explained_variance_ratio_.sum()\n",
        "            })\n",
        "\n",
        "            if mse < best_svd_score:\n",
        "                best_svd_score = mse\n",
        "                best_svd_params = {'n_components': n_comp, 'n_iter': n_it}\n",
        "                best_svd_model = svd\n",
        "                best_svd_matrix = svd_matrix\n",
        "\n",
        "            print(f\"n_comp={n_comp}, n_iter={n_it}: MSE={mse:.4f}, Var={svd.explained_variance_ratio_.sum():.4f}\")\n",
        "        except:\n",
        "            continue\n",
        "\n",
        "print(f\"\\nBest SVD parameters: {best_svd_params}\")\n",
        "print(f\"Best SVD score (MSE): {best_svd_score:.4f}\")"
      ],
      "metadata": {
        "colab": {
          "base_uri": "https://localhost:8080/"
        },
        "id": "IcOXvJO1npoJ",
        "outputId": "5729b6d8-8554-49cf-fa03-efb0a76c1c1b"
      },
      "execution_count": 57,
      "outputs": [
        {
          "output_type": "stream",
          "name": "stdout",
          "text": [
            "n_comp=10, n_iter=5: MSE=1.2221, Var=0.1652\n",
            "n_comp=10, n_iter=10: MSE=1.2218, Var=0.1654\n",
            "n_comp=10, n_iter=20: MSE=1.2218, Var=0.1654\n",
            "n_comp=20, n_iter=5: MSE=1.0812, Var=0.2614\n",
            "n_comp=20, n_iter=10: MSE=1.0799, Var=0.2623\n",
            "n_comp=20, n_iter=20: MSE=1.0798, Var=0.2624\n",
            "n_comp=30, n_iter=5: MSE=0.9694, Var=0.3378\n",
            "n_comp=30, n_iter=10: MSE=0.9673, Var=0.3392\n",
            "n_comp=30, n_iter=20: MSE=0.9671, Var=0.3393\n",
            "n_comp=50, n_iter=5: MSE=0.7917, Var=0.4592\n",
            "n_comp=50, n_iter=10: MSE=0.7889, Var=0.4610\n",
            "n_comp=50, n_iter=20: MSE=0.7886, Var=0.4612\n",
            "n_comp=100, n_iter=5: MSE=0.4924, Var=0.6636\n",
            "n_comp=100, n_iter=10: MSE=0.4896, Var=0.6655\n",
            "n_comp=100, n_iter=20: MSE=0.4890, Var=0.6659\n",
            "\n",
            "Best SVD parameters: {'n_components': 100, 'n_iter': 20}\n",
            "Best SVD score (MSE): 0.4890\n"
          ]
        }
      ]
    },
    {
      "cell_type": "code",
      "source": [
        "print(\"\\n\" + \"=\"*60)\n",
        "print(\"MODEL COMPARISON SUMMARY\")\n",
        "print(\"=\"*60)\n",
        "\n",
        "models_summary = {\n",
        "    'Cosine Similarity': {'type': 'distance-based', 'complexity': 'O(n²)'},\n",
        "    'K-Nearest Neighbors': {\n",
        "        'type': 'neighborhood-based',\n",
        "        'best_params': best_knn_params,\n",
        "        'avg_distance': best_knn_score\n",
        "    },\n",
        "    'SVD (Matrix Factorization)': {\n",
        "        'type': 'latent-factor',\n",
        "        'best_params': best_svd_params,\n",
        "        'mse': best_svd_score\n",
        "    }\n",
        "}\n",
        "\n",
        "for model, info in models_summary.items():\n",
        "    print(f\"\\n{model}:\")\n",
        "    for key, val in info.items():\n",
        "        print(f\"  {key}: {val}\")"
      ],
      "metadata": {
        "colab": {
          "base_uri": "https://localhost:8080/"
        },
        "id": "LjAF38dunsMA",
        "outputId": "d05cbc5a-4209-40e6-f7e7-962f8c70a7e7"
      },
      "execution_count": 58,
      "outputs": [
        {
          "output_type": "stream",
          "name": "stdout",
          "text": [
            "\n",
            "============================================================\n",
            "MODEL COMPARISON SUMMARY\n",
            "============================================================\n",
            "\n",
            "Cosine Similarity:\n",
            "  type: distance-based\n",
            "  complexity: O(n²)\n",
            "\n",
            "K-Nearest Neighbors:\n",
            "  type: neighborhood-based\n",
            "  best_params: {'n_neighbors': 5, 'metric': 'cosine', 'algorithm': 'brute'}\n",
            "  avg_distance: 0.5635753327388064\n",
            "\n",
            "SVD (Matrix Factorization):\n",
            "  type: latent-factor\n",
            "  best_params: {'n_components': 100, 'n_iter': 20}\n",
            "  mse: 0.48902561072265993\n"
          ]
        }
      ]
    },
    {
      "cell_type": "code",
      "source": [
        "def recommend_cosine(book_name, n=8):\n",
        "    try:\n",
        "        index = np.where(pt.index == book_name)[0][0]\n",
        "        similar_items = sorted(list(enumerate(cosine_sim[index])), reverse=True, key=lambda x: x[1])[1:n+1]\n",
        "\n",
        "        recommendations = []\n",
        "        for i in similar_items:\n",
        "            temp_df = book[book['Book-Title'] == pt.index[i[0]]]\n",
        "            recommendations.append({\n",
        "                'title': temp_df['Book-Title'].values[0],\n",
        "                'author': temp_df['Book-Author'].values[0],\n",
        "                'image': temp_df['Image-URL-M'].values[0],\n",
        "                'similarity': i[1]\n",
        "            })\n",
        "        return recommendations\n",
        "    except:\n",
        "        return []"
      ],
      "metadata": {
        "id": "s4naNvl6nxWF"
      },
      "execution_count": 59,
      "outputs": []
    },
    {
      "cell_type": "code",
      "source": [
        "def recommend_knn(book_name, n=8):\n",
        "    try:\n",
        "        index = np.where(pt.index == book_name)[0][0]\n",
        "        distances, indices = best_knn_model.kneighbors(\n",
        "            csr_matrix(pt.iloc[index].values.reshape(1, -1)),\n",
        "            n_neighbors=n+1\n",
        "        )\n",
        "\n",
        "        recommendations = []\n",
        "        for i in range(1, len(indices[0])):\n",
        "            idx = indices[0][i]\n",
        "            temp_df = book[book['Book-Title'] == pt.index[idx]]\n",
        "            recommendations.append({\n",
        "                'title': temp_df['Book-Title'].values[0],\n",
        "                'author': temp_df['Book-Author'].values[0],\n",
        "                'image': temp_df['Image-URL-M'].values[0],\n",
        "                'distance': distances[0][i]\n",
        "            })\n",
        "        return recommendations\n",
        "    except:\n",
        "        return []"
      ],
      "metadata": {
        "id": "bUdlaR64nze1"
      },
      "execution_count": 60,
      "outputs": []
    },
    {
      "cell_type": "code",
      "source": [
        "def recommend_svd(book_name, n=8):\n",
        "    try:\n",
        "        index = np.where(pt.index == book_name)[0][0]\n",
        "        book_vector = best_svd_matrix[index].reshape(1, -1)\n",
        "\n",
        "        similarities = cosine_similarity(book_vector, best_svd_matrix)[0]\n",
        "        similar_indices = similarities.argsort()[::-1][1:n+1]\n",
        "\n",
        "        recommendations = []\n",
        "        for idx in similar_indices:\n",
        "            temp_df = book[book['Book-Title'] == pt.index[idx]]\n",
        "            recommendations.append({\n",
        "                'title': temp_df['Book-Title'].values[0],\n",
        "                'author': temp_df['Book-Author'].values[0],\n",
        "                'image': temp_df['Image-URL-M'].values[0],\n",
        "                'similarity': similarities[idx]\n",
        "            })\n",
        "        return recommendations\n",
        "    except:\n",
        "        return []\n",
        "\n",
        "print(\"\\n\" + \"=\"*60)\n",
        "print(\"TESTING RECOMMENDATIONS\")\n",
        "print(\"=\"*60)"
      ],
      "metadata": {
        "colab": {
          "base_uri": "https://localhost:8080/"
        },
        "id": "LEKRr7iyn1rZ",
        "outputId": "2919aa04-a439-4cbe-d870-b2f24a77479c"
      },
      "execution_count": 61,
      "outputs": [
        {
          "output_type": "stream",
          "name": "stdout",
          "text": [
            "\n",
            "============================================================\n",
            "TESTING RECOMMENDATIONS\n",
            "============================================================\n"
          ]
        }
      ]
    },
    {
      "cell_type": "code",
      "source": [
        "test_book = \"1984\"\n",
        "print(f\"\\nRecommendations for: {test_book}\")\n",
        "\n",
        "print(\"\\n--- Cosine Similarity ---\")\n",
        "recs_cos = recommend_cosine(test_book, n=5)\n",
        "for i, rec in enumerate(recs_cos, 1):\n",
        "    print(f\"{i}. {rec['title']} by {rec['author']} (sim: {rec['similarity']:.4f})\")\n",
        "\n",
        "print(\"\\n--- K-Nearest Neighbors ---\")"
      ],
      "metadata": {
        "colab": {
          "base_uri": "https://localhost:8080/"
        },
        "id": "WOzj3zr7n30h",
        "outputId": "0b724fcb-0391-442a-c687-bab9e7473e94"
      },
      "execution_count": 62,
      "outputs": [
        {
          "output_type": "stream",
          "name": "stdout",
          "text": [
            "\n",
            "Recommendations for: 1984\n",
            "\n",
            "--- Cosine Similarity ---\n",
            "1. The Bonesetter's Daughter by Amy Tan (sim: 0.3109)\n",
            "2. The Handmaid's Tale by Margaret Atwood (sim: 0.2684)\n",
            "3. The Vampire Lestat (Vampire Chronicles, Book II) by ANNE RICE (sim: 0.2675)\n",
            "4. The Hitchhiker's Guide to the Galaxy by Douglas Adams (sim: 0.2605)\n",
            "5. The Catcher in the Rye by J.D. Salinger (sim: 0.2470)\n",
            "\n",
            "--- K-Nearest Neighbors ---\n"
          ]
        }
      ]
    },
    {
      "cell_type": "code",
      "source": [
        "recs_knn = recommend_knn(test_book, n=5)\n",
        "for i, rec in enumerate(recs_knn, 1):\n",
        "    print(f\"{i}. {rec['title']} by {rec['author']} (dist: {rec['distance']:.4f})\")\n",
        "\n",
        "print(\"\\n--- SVD (Matrix Factorization) ---\")\n",
        "recs_svd = recommend_svd(test_book, n=5)\n",
        "for i, rec in enumerate(recs_svd, 1):\n",
        "    print(f\"{i}. {rec['title']} by {rec['author']} (sim: {rec['similarity']:.4f})\")\n",
        "\n",
        "print(\"\\n\" + \"=\"*60)\n",
        "print(\"SAVING MODELS AND DATA\")\n",
        "print(\"=\"*60)\n"
      ],
      "metadata": {
        "colab": {
          "base_uri": "https://localhost:8080/"
        },
        "id": "vxgSV8cXn93S",
        "outputId": "56146884-2dae-43cc-e26a-e989689ccd99"
      },
      "execution_count": 63,
      "outputs": [
        {
          "output_type": "stream",
          "name": "stdout",
          "text": [
            "\n",
            "--- SVD (Matrix Factorization) ---\n",
            "1. The Bonesetter's Daughter by Amy Tan (sim: 0.4364)\n",
            "2. Don't Sweat the Small Stuff and It's All Small Stuff : Simple Ways to Keep the Little Things from Taking Over Your Life (Don't Sweat the Small Stuff Series) by Richard Carlson (sim: 0.4284)\n",
            "3. The Catcher in the Rye by J.D. Salinger (sim: 0.4189)\n",
            "4. The Hitchhiker's Guide to the Galaxy by Douglas Adams (sim: 0.4104)\n",
            "5. Fall On Your Knees (Oprah #45) by Ann-Marie MacDonald (sim: 0.4101)\n",
            "\n",
            "============================================================\n",
            "SAVING MODELS AND DATA\n",
            "============================================================\n"
          ]
        }
      ]
    },
    {
      "cell_type": "code",
      "source": [
        "pickle.dump(pbr_df, open('PopularBookRecommendation.pkl', 'wb'))\n",
        "pickle.dump(pt, open('pt.pkl', 'wb'))\n",
        "pickle.dump(book, open('book.pkl', 'wb'))\n",
        "pickle.dump(cosine_sim, open('cosine_similarity.pkl', 'wb'))\n",
        "pickle.dump(best_knn_model, open('knn_model.pkl', 'wb'))\n",
        "pickle.dump(best_svd_model, open('svd_model.pkl', 'wb'))\n",
        "pickle.dump(best_svd_matrix, open('svd_matrix.pkl', 'wb'))\n",
        "\n",
        "print(\"Models saved successfully!\")\n",
        "print(\"\\nFiles created:\")\n",
        "print(\"- PopularBookRecommendation.pkl\")\n",
        "print(\"- pt.pkl\")\n",
        "print(\"- book.pkl\")\n",
        "print(\"- cosine_similarity.pkl\")\n",
        "print(\"- knn_model.pkl\")\n",
        "print(\"- svd_model.pkl\")\n",
        "print(\"- svd_matrix.pkl\")\n",
        "\n",
        "print(\"\\n\" + \"=\"*60)\n",
        "print(\"RECOMMENDATION SYSTEM COMPLETE!\")\n",
        "print(\"=\"*60)"
      ],
      "metadata": {
        "colab": {
          "base_uri": "https://localhost:8080/"
        },
        "id": "NfiKp560oD7H",
        "outputId": "689c9cd7-2339-4ad0-a1ab-ae80cd2987b0"
      },
      "execution_count": 64,
      "outputs": [
        {
          "output_type": "stream",
          "name": "stdout",
          "text": [
            "Models saved successfully!\n",
            "\n",
            "Files created:\n",
            "- PopularBookRecommendation.pkl\n",
            "- pt.pkl\n",
            "- book.pkl\n",
            "- cosine_similarity.pkl\n",
            "- knn_model.pkl\n",
            "- svd_model.pkl\n",
            "- svd_matrix.pkl\n",
            "\n",
            "============================================================\n",
            "RECOMMENDATION SYSTEM COMPLETE!\n",
            "============================================================\n"
          ]
        }
      ]
    },
    {
      "cell_type": "code",
      "source": [],
      "metadata": {
        "id": "x1ujFelkoEz4"
      },
      "execution_count": 64,
      "outputs": []
    }
  ]
}
